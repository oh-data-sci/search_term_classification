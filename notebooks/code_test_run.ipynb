{
 "cells": [
  {
   "cell_type": "code",
   "execution_count": 1,
   "metadata": {},
   "outputs": [],
   "source": [
    "import numpy as np\n",
    "import pandas as pd\n",
    "import pickle\n",
    "from sklearn.feature_extraction.text import TfidfVectorizer\n",
    "from sklearn.svm import LinearSVC #(setting multi_class=”crammer_singer”)\n",
    "\n",
    "import pandas as pd\n",
    "import pickle\n",
    "import time\n",
    "\n",
    "input_data_filepath   = '../data/raw/trainSet.csv'\n",
    "new_data_filepath     = '../data/raw/candidateTestSet.csv'\n",
    "model_filepath        = '../models/final_model_object.pckl'\n",
    "preprocessor_filepath = '../models/preprocessor_object.pckl'\n",
    "\n",
    "output_prediction_filepath = '../output/candidateTestSet_with_categories.csv'\n",
    "\n",
    "\n",
    "def train_model(training_data_raw):\n",
    "    \"\"\"\n",
    "    given training training data\n",
    "    trains a `LinearSVC` model with discovered hyperparameters\n",
    "    \"\"\"\n",
    "    tfidf = TfidfVectorizer(\n",
    "        stop_words = {'english'},\n",
    "        strip_accents= 'ascii',\n",
    "        ngram_range=(1,1), # consider unigrams/bigrams/trigrams?\n",
    "        min_df = 8,\n",
    "        max_df = 0.80,\n",
    "        binary = True, # count term occurance in each query only once\n",
    "    )\n",
    "    clf_svc = LinearSVC(\n",
    "        dual=False,\n",
    "        tol=1e-3,\n",
    "        multi_class='ovr',\n",
    "        max_iter=2500,\n",
    "    )\n",
    "    X = tfidf.fit_transform(training_data_raw['query'])\n",
    "    y = training_data_raw['category']\n",
    "\n",
    "    clf_svc.fit(X, y)\n",
    "    \n",
    "    return tfidf, clf_svc\n",
    "\n",
    "\n",
    "def predictions_from_model(model, preprocessor, new_data_raw):\n",
    "    \"\"\"\n",
    "    \"\"\"\n",
    "    try:\n",
    "#         print('new_data_raw:', type(new_data_raw), len(new_data_raw))\n",
    "#         processed = preprocessor.transform(new_data_raw)\n",
    "#         print('preprocessed:', type(processed), processed.shape)\n",
    "        y_predict = model.predict(preprocessor.transform(new_data_raw))\n",
    "#         print('preprocessed:', type(y_predict), y_predict.shape)\n",
    "    except Exception as err:\n",
    "        print('error computing model predictions using model', model)\n",
    "        raise err\n",
    "    return y_predict\n"
   ]
  },
  {
   "cell_type": "code",
   "execution_count": 2,
   "metadata": {},
   "outputs": [],
   "source": [
    "# fetch training data:\n",
    "df_train = pd.read_csv(input_data_filepath, header=None, names=['query', 'category'])\n",
    "df_train['category'] = pd.Categorical(df_train['category'].astype(str))"
   ]
  },
  {
   "cell_type": "code",
   "execution_count": 3,
   "metadata": {},
   "outputs": [],
   "source": [
    "# train model, return preprocessing steps and model object:\n",
    "preprocessor, trained_model = train_model(df_train)\n",
    " \n",
    "with open(model_filepath, 'wb') as filepath:\n",
    "    pickle.dump(trained_model, filepath)\n",
    "\n",
    "with open(preprocessor_filepath, 'wb') as filepath:\n",
    "    pickle.dump(preprocessor, filepath)"
   ]
  },
  {
   "cell_type": "code",
   "execution_count": null,
   "metadata": {},
   "outputs": [],
   "source": []
  },
  {
   "cell_type": "code",
   "execution_count": 5,
   "metadata": {},
   "outputs": [],
   "source": [
    "# fetch unlabelled data, add computed predictions, output to file:\n",
    "df_new = pd.read_csv(new_data_filepath, header=None, names=['query'])\n",
    "temp = predictions_from_model(trained_model, preprocessor, df_new['query'])\n",
    "df_new['category_predicted'] = temp"
   ]
  },
  {
   "cell_type": "code",
   "execution_count": 6,
   "metadata": {},
   "outputs": [
    {
     "name": "stdout",
     "output_type": "stream",
     "text": [
      "predictions: 67424 <class 'numpy.ndarray'> 67424\n"
     ]
    }
   ],
   "source": [
    "print('predictions:', len(df_new), type(temp), len(temp))"
   ]
  },
  {
   "cell_type": "code",
   "execution_count": 7,
   "metadata": {},
   "outputs": [],
   "source": [
    "df_new.to_csv(output_prediction_filepath, index=False)"
   ]
  },
  {
   "cell_type": "code",
   "execution_count": 8,
   "metadata": {},
   "outputs": [
    {
     "name": "stdout",
     "output_type": "stream",
     "text": [
      "done\n"
     ]
    }
   ],
   "source": [
    "print('done')"
   ]
  },
  {
   "cell_type": "code",
   "execution_count": null,
   "metadata": {},
   "outputs": [],
   "source": []
  }
 ],
 "metadata": {
  "kernelspec": {
   "display_name": "Python 3",
   "language": "python",
   "name": "python3"
  },
  "language_info": {
   "codemirror_mode": {
    "name": "ipython",
    "version": 3
   },
   "file_extension": ".py",
   "mimetype": "text/x-python",
   "name": "python",
   "nbconvert_exporter": "python",
   "pygments_lexer": "ipython3",
   "version": "3.8.6"
  }
 },
 "nbformat": 4,
 "nbformat_minor": 4
}
