{
 "cells": [
  {
   "cell_type": "markdown",
   "metadata": {},
   "source": [
    "# random forest classifier model\n",
    "\n",
    "- assume training data in filepath\n",
    "    + `data/processed/train.csv`\n",
    "- assume testing data in filepath\n",
    "    + `data/processed/test.csv`\n",
    "- assume both have same structure:\n",
    "    + first column is query \n",
    "    + second column is category\n",
    "- assume input strings are 'clean':\n",
    "    + in lower case\n",
    "    + punctuation removed (stop words included)\n",
    "    + words separated by spaces (no padding)\n",
    "- output:\n",
    "    + `models/randomforest.pckl`"
   ]
  },
  {
   "cell_type": "code",
   "execution_count": 1,
   "metadata": {},
   "outputs": [],
   "source": [
    "import numpy as np\n",
    "import pandas as pd\n",
    "import pickle\n",
    "from sklearn.ensemble import RandomForestClassifier\n",
    "from sklearn.feature_extraction.text import TfidfVectorizer\n",
    "from sklearn.compose import make_column_transformer\n",
    "from sklearn import metrics\n",
    "from sklearn.model_selection import cross_val_score\n",
    "from sklearn.pipeline import make_pipeline\n",
    "\n",
    "split_training_data_filepath = '../data/processed/train.csv'\n",
    "split_testing_data_filepath  = '../data/processed/test.csv'\n",
    "model_filepath = '../models/randomforest.pckl'"
   ]
  },
  {
   "cell_type": "code",
   "execution_count": 2,
   "metadata": {},
   "outputs": [
    {
     "data": {
      "text/html": [
       "<div>\n",
       "<style scoped>\n",
       "    .dataframe tbody tr th:only-of-type {\n",
       "        vertical-align: middle;\n",
       "    }\n",
       "\n",
       "    .dataframe tbody tr th {\n",
       "        vertical-align: top;\n",
       "    }\n",
       "\n",
       "    .dataframe thead th {\n",
       "        text-align: right;\n",
       "    }\n",
       "</style>\n",
       "<table border=\"1\" class=\"dataframe\">\n",
       "  <thead>\n",
       "    <tr style=\"text-align: right;\">\n",
       "      <th></th>\n",
       "      <th>query</th>\n",
       "      <th>category</th>\n",
       "    </tr>\n",
       "  </thead>\n",
       "  <tbody>\n",
       "    <tr>\n",
       "      <th>397564</th>\n",
       "      <td>can i get help with divorce costs</td>\n",
       "      <td>607</td>\n",
       "    </tr>\n",
       "    <tr>\n",
       "      <th>292274</th>\n",
       "      <td>recycle computer batteries</td>\n",
       "      <td>235</td>\n",
       "    </tr>\n",
       "    <tr>\n",
       "      <th>419959</th>\n",
       "      <td>will proforma</td>\n",
       "      <td>1277</td>\n",
       "    </tr>\n",
       "  </tbody>\n",
       "</table>\n",
       "</div>"
      ],
      "text/plain": [
       "                                    query category\n",
       "397564  can i get help with divorce costs      607\n",
       "292274         recycle computer batteries      235\n",
       "419959                      will proforma     1277"
      ]
     },
     "metadata": {},
     "output_type": "display_data"
    }
   ],
   "source": [
    "# fetch training data only:\n",
    "df_train = pd.read_csv(split_training_data_filepath, index_col=0)\n",
    "# do not want the class label to be numerical nor ordinal. \n",
    "df_train['category'] = pd.Categorical(df_train['category'])\n",
    "display(df_train.sample(3))"
   ]
  },
  {
   "cell_type": "code",
   "execution_count": 3,
   "metadata": {},
   "outputs": [],
   "source": [
    "# transform the query to a scaled frequency vector of vocabulary terms\n",
    "tfidf = TfidfVectorizer(\n",
    "#     stop_words=stop_words,\n",
    "    stop_words = {'english'},\n",
    "    strip_accents= 'ascii',\n",
    "    ngram_range=(1,1), # consider unigrams/bigrams/trigrams?\n",
    "    min_df = 10,\n",
    "    max_df = 0.80,\n",
    "    binary=True, # count term occurance in each query only once\n",
    ")\n",
    "# column transformer\n",
    "all_transforms = make_column_transformer(\n",
    "    (tfidf, ['query'])\n",
    ")\n",
    "\n",
    "# classify using random forest (resistant to overfitting):\n",
    "clf_rf = RandomForestClassifier(\n",
    "    n_estimators = 256,\n",
    "    max_depth = 8,\n",
    "    n_jobs = -1,\n",
    "#     warm_start = True,\n",
    "    warm_start = False,\n",
    "    max_samples = None,\n",
    "#     verbose = 3,\n",
    ")\n",
    "pipe = make_pipeline(all_transforms, clf_rf)"
   ]
  },
  {
   "cell_type": "code",
   "execution_count": 4,
   "metadata": {},
   "outputs": [
    {
     "name": "stdout",
     "output_type": "stream",
     "text": [
      "CPU times: user 2 µs, sys: 1e+03 ns, total: 3 µs\n",
      "Wall time: 5.25 µs\n"
     ]
    }
   ],
   "source": [
    "%%time\n",
    "# scores = cross_val_score(pipe, df_train['query'], df_train['category'], cv=5, scoring='accuracy')\n",
    "# scores = cross_val_score(clf_rf, X, y, cv=5, scoring='f1_macro')\n",
    "# scores = cross_val_score(clf_rf, X, df_train['category'], cv=2, scoring='accuracy')\n",
    "# cross_val_score(pipe, df_train['query'], df_train['category'], cv=5, scoring='accuracy')\n",
    "# print(\"accuracy: %0.2f (+/- %0.2f)\" % (scores.mean(), scores.std() * 2))"
   ]
  },
  {
   "cell_type": "code",
   "execution_count": 5,
   "metadata": {},
   "outputs": [
    {
     "data": {
      "text/plain": [
       "(485458, 12650)"
      ]
     },
     "metadata": {},
     "output_type": "display_data"
    },
    {
     "name": "stdout",
     "output_type": "stream",
     "text": [
      "CPU times: user 2.58 s, sys: 28.6 ms, total: 2.61 s\n",
      "Wall time: 2.61 s\n"
     ]
    },
    {
     "data": {
      "text/plain": [
       "<485458x12650 sparse matrix of type '<class 'numpy.float64'>'\n",
       "\twith 1384726 stored elements in Compressed Sparse Row format>"
      ]
     },
     "execution_count": 5,
     "metadata": {},
     "output_type": "execute_result"
    }
   ],
   "source": [
    "%%time\n",
    "X = tfidf.fit_transform(df_train['query'])\n",
    "display(X.shape)\n",
    "X"
   ]
  },
  {
   "cell_type": "code",
   "execution_count": 6,
   "metadata": {},
   "outputs": [
    {
     "name": "stdout",
     "output_type": "stream",
     "text": [
      "trained randomforest model and exported to ../models/randomforest.pckl\n",
      "CPU times: user 1min 56s, sys: 4.21 s, total: 2min 1s\n",
      "Wall time: 9.35 s\n"
     ]
    }
   ],
   "source": [
    "%%time\n",
    "# train model\n",
    "clf_rf.fit(X, df_train['category'])\n",
    "with open(model_filepath, 'wb') as filepath:\n",
    "    pickle.dump(clf_rf, filepath)\n",
    "print('trained randomforest model and exported to', model_filepath)"
   ]
  },
  {
   "cell_type": "code",
   "execution_count": 7,
   "metadata": {},
   "outputs": [
    {
     "name": "stdout",
     "output_type": "stream",
     "text": [
      "read in test data: (121365, 12650) now running model predictions\n",
      "computed 121365 predictions of test data\n",
      "CPU times: user 5min 49s, sys: 16min 8s, total: 21min 58s\n",
      "Wall time: 30min 23s\n"
     ]
    }
   ],
   "source": [
    "%%time\n",
    "# check model against test data\n",
    "df_test = pd.read_csv(split_testing_data_filepath, index_col=0)\n",
    "X_test = tfidf.transform(df_test['query'])\n",
    "print('read in test data:', X_test.shape, 'now running model predictions')\n",
    "y_predicted = clf_rf.predict(X_test)\n",
    "print('computed', len(y_predicted), 'predictions of test data')"
   ]
  },
  {
   "cell_type": "code",
   "execution_count": 9,
   "metadata": {},
   "outputs": [
    {
     "name": "stdout",
     "output_type": "stream",
     "text": [
      "number of   correct predictions: 19504\n",
      "number of incorrect predictions: 101861\n",
      "ratio of   correct  predictions: 0.161\n",
      "\n"
     ]
    }
   ],
   "source": [
    "print('number of   correct predictions:', sum(y_predicted == df_test['category']))\n",
    "print('number of incorrect predictions:', sum(y_predicted != df_test['category']))\n",
    "print('ratio of   correct  predictions:', round(sum(y_predicted == df_test['category'])/len(df_test),3))\n",
    "print('')"
   ]
  },
  {
   "cell_type": "code",
   "execution_count": null,
   "metadata": {},
   "outputs": [],
   "source": []
  }
 ],
 "metadata": {
  "kernelspec": {
   "display_name": "Python 3",
   "language": "python",
   "name": "python3"
  },
  "language_info": {
   "codemirror_mode": {
    "name": "ipython",
    "version": 3
   },
   "file_extension": ".py",
   "mimetype": "text/x-python",
   "name": "python",
   "nbconvert_exporter": "python",
   "pygments_lexer": "ipython3",
   "version": "3.8.6"
  }
 },
 "nbformat": 4,
 "nbformat_minor": 4
}
