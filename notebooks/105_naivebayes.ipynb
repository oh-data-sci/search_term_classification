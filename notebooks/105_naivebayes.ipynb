{
 "cells": [
  {
   "cell_type": "markdown",
   "metadata": {},
   "source": [
    "# naive bayes classifier model\n",
    "\n",
    "faster implementation of gradient boosting classifier\n",
    "\n",
    "- assume training data in filepath\n",
    "    + `data/processed/train.csv`\n",
    "- assume testing data in filepath\n",
    "    + `data/processed/test.csv`\n",
    "- assume both have same structure:\n",
    "    + first column is query \n",
    "    + second column is category\n",
    "- assume input strings are 'clean':\n",
    "    + in lower case\n",
    "    + punctuation removed (stop words included)\n",
    "    + words separated by spaces (no padding)\n",
    "- output:\n",
    "    + `models/naivebayes.pckl`"
   ]
  },
  {
   "cell_type": "code",
   "execution_count": 1,
   "metadata": {},
   "outputs": [],
   "source": [
    "import numpy as np\n",
    "import pandas as pd\n",
    "import pickle\n",
    "\n",
    "from sklearn.compose import make_column_transformer\n",
    "from sklearn.naive_bayes import CategoricalNB\n",
    "from sklearn.feature_extraction.text import TfidfVectorizer\n",
    "from sklearn.model_selection import cross_val_score\n",
    "from sklearn.pipeline import make_pipeline\n",
    "\n",
    "split_training_data_filepath = '../data/processed/train.csv'\n",
    "split_testing_data_filepath  = '../data/processed/test.csv'\n",
    "model_filepath = '../models/naivebayes.pckl'"
   ]
  },
  {
   "cell_type": "code",
   "execution_count": 2,
   "metadata": {},
   "outputs": [
    {
     "data": {
      "text/html": [
       "<div>\n",
       "<style scoped>\n",
       "    .dataframe tbody tr th:only-of-type {\n",
       "        vertical-align: middle;\n",
       "    }\n",
       "\n",
       "    .dataframe tbody tr th {\n",
       "        vertical-align: top;\n",
       "    }\n",
       "\n",
       "    .dataframe thead th {\n",
       "        text-align: right;\n",
       "    }\n",
       "</style>\n",
       "<table border=\"1\" class=\"dataframe\">\n",
       "  <thead>\n",
       "    <tr style=\"text-align: right;\">\n",
       "      <th></th>\n",
       "      <th>query</th>\n",
       "      <th>category</th>\n",
       "    </tr>\n",
       "  </thead>\n",
       "  <tbody>\n",
       "    <tr>\n",
       "      <th>203039</th>\n",
       "      <td>prosecco</td>\n",
       "      <td>37</td>\n",
       "    </tr>\n",
       "    <tr>\n",
       "      <th>243065</th>\n",
       "      <td>wooden curtain pole</td>\n",
       "      <td>318</td>\n",
       "    </tr>\n",
       "    <tr>\n",
       "      <th>301292</th>\n",
       "      <td>morley fire alarm</td>\n",
       "      <td>180</td>\n",
       "    </tr>\n",
       "  </tbody>\n",
       "</table>\n",
       "</div>"
      ],
      "text/plain": [
       "                      query category\n",
       "203039             prosecco       37\n",
       "243065  wooden curtain pole      318\n",
       "301292    morley fire alarm      180"
      ]
     },
     "metadata": {},
     "output_type": "display_data"
    }
   ],
   "source": [
    "# fetch training data only:\n",
    "df_train = pd.read_csv(split_training_data_filepath, index_col=0)\n",
    "# do not want the class label to be numerical nor ordinal. \n",
    "# df_train['category'] = pd.Categorical(df_train['category'])\n",
    "df_train['category'] = pd.Categorical(df_train['category'])\n",
    "display(df_train.sample(3))"
   ]
  },
  {
   "cell_type": "code",
   "execution_count": 3,
   "metadata": {},
   "outputs": [],
   "source": [
    "# transform the text field\n",
    "tfidf = TfidfVectorizer(\n",
    "#     stop_words=stop_words,\n",
    "    strip_accents= 'ascii',\n",
    "    ngram_range=(1,1), # consider unigrams/bigrams/trigrams?\n",
    "    min_df = 10,\n",
    "    max_df = 0.80,\n",
    "    binary=True, # count term occurance in each query only once\n",
    ")\n",
    "# column transformer\n",
    "all_transforms = make_column_transformer(\n",
    "    (tfidf, ['query'])\n",
    ")\n",
    "\n",
    "# classify using random forest (resistant to overfitting):\n",
    "clf_cnb = CategoricalNB()\n",
    "pipe = make_pipeline(all_transforms, clf_cnb)"
   ]
  },
  {
   "cell_type": "code",
   "execution_count": 4,
   "metadata": {},
   "outputs": [
    {
     "name": "stdout",
     "output_type": "stream",
     "text": [
      "CPU times: user 2 µs, sys: 1 µs, total: 3 µs\n",
      "Wall time: 5.25 µs\n"
     ]
    }
   ],
   "source": [
    "%%time\n",
    "# scores = cross_val_score(pipe, df_train['query'], df_train['category'], cv=10, scoring='accuracy')\n",
    "# scores = cross_val_score(clf_svc, X, y, cv=5, scoring='f1_macro')\n",
    "# scores = cross_val_score(clf_svc, X, df_train['category'], cv=2, scoring='accuracy')\n",
    "# cross_val_score(pipe, df_train['query'], df_train['category'], cv=5, scoring='accuracy')\n",
    "# print(\"accuracy: %0.2f (+/- %0.2f)\" % (scores.mean(), scores.std() * 2))"
   ]
  },
  {
   "cell_type": "code",
   "execution_count": 5,
   "metadata": {},
   "outputs": [
    {
     "data": {
      "text/plain": [
       "(485458, 12651)"
      ]
     },
     "metadata": {},
     "output_type": "display_data"
    },
    {
     "name": "stdout",
     "output_type": "stream",
     "text": [
      "CPU times: user 2.43 s, sys: 34.1 ms, total: 2.47 s\n",
      "Wall time: 2.46 s\n"
     ]
    },
    {
     "data": {
      "text/plain": [
       "<485458x12651 sparse matrix of type '<class 'numpy.float64'>'\n",
       "\twith 1385122 stored elements in Compressed Sparse Row format>"
      ]
     },
     "execution_count": 5,
     "metadata": {},
     "output_type": "execute_result"
    }
   ],
   "source": [
    "%%time\n",
    "X = tfidf.fit_transform(df_train['query'])\n",
    "display(X.shape)\n",
    "X"
   ]
  },
  {
   "cell_type": "code",
   "execution_count": null,
   "metadata": {},
   "outputs": [],
   "source": [
    "%%time\n",
    "# train model\n",
    "clf_cnb.fit(X.toarray(), df_train['category'])\n",
    "with open(model_filepath, 'wb') as filepath:\n",
    "    pickle.dump(clf_cnb, filepath)\n",
    "print('trained gbm model and exported to', model_filepath)"
   ]
  },
  {
   "cell_type": "markdown",
   "metadata": {},
   "source": [
    "leads to time-out errors."
   ]
  },
  {
   "cell_type": "code",
   "execution_count": null,
   "metadata": {},
   "outputs": [],
   "source": [
    "%%time\n",
    "# check model\n",
    "df_test = pd.read_csv(split_testing_data_filepath, index_col=0)\n",
    "X_test = tfidf.transform(df_test['query'])\n",
    "print('read in test data', X_test.shape)\n",
    "y_predicted = clf_cnb.predict(X_test)\n",
    "print('computed', len(y_predicted), 'predictions of test data')\n",
    "print('number of correct test predictions:', sum(y_predicted == df_test['category']))\n",
    "print('number of incorrect predictions:', sum(y_predicted != df_test['category']))\n",
    "print('ratio of correct test predictions:', round(sum(y_predicted == df_test['category'])/len(df_test),3))\n",
    "print('')"
   ]
  },
  {
   "cell_type": "code",
   "execution_count": null,
   "metadata": {},
   "outputs": [],
   "source": []
  },
  {
   "cell_type": "code",
   "execution_count": null,
   "metadata": {},
   "outputs": [],
   "source": []
  },
  {
   "cell_type": "code",
   "execution_count": null,
   "metadata": {},
   "outputs": [],
   "source": []
  },
  {
   "cell_type": "code",
   "execution_count": null,
   "metadata": {},
   "outputs": [],
   "source": []
  },
  {
   "cell_type": "code",
   "execution_count": null,
   "metadata": {},
   "outputs": [],
   "source": []
  },
  {
   "cell_type": "code",
   "execution_count": null,
   "metadata": {},
   "outputs": [],
   "source": []
  }
 ],
 "metadata": {
  "kernelspec": {
   "display_name": "Python 3",
   "language": "python",
   "name": "python3"
  },
  "language_info": {
   "codemirror_mode": {
    "name": "ipython",
    "version": 3
   },
   "file_extension": ".py",
   "mimetype": "text/x-python",
   "name": "python",
   "nbconvert_exporter": "python",
   "pygments_lexer": "ipython3",
   "version": "3.8.6"
  }
 },
 "nbformat": 4,
 "nbformat_minor": 4
}
