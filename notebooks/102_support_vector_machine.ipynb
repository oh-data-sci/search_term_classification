{
 "cells": [
  {
   "cell_type": "markdown",
   "metadata": {},
   "source": [
    "# support vector machine classifier model\n",
    "\n",
    "- assume training data in filepath\n",
    "    + `data/processed/train.csv`\n",
    "- assume testing data in filepath\n",
    "    + `data/processed/test.csv`\n",
    "- assume both have same structure:\n",
    "    + first column is query \n",
    "    + second column is category\n",
    "- assume input strings are 'clean':\n",
    "    + in lower case\n",
    "    + punctuation removed (stop words included)\n",
    "    + words separated by spaces (no padding)\n",
    "- output:\n",
    "    + `models/supportvectormachine.pckl`"
   ]
  },
  {
   "cell_type": "code",
   "execution_count": 15,
   "metadata": {},
   "outputs": [],
   "source": [
    "import numpy as np\n",
    "import pandas as pd\n",
    "import pickle\n",
    "from sklearn.feature_extraction.text import TfidfVectorizer\n",
    "from sklearn.compose import make_column_transformer\n",
    "from sklearn.model_selection import cross_val_score\n",
    "from sklearn.pipeline import make_pipeline\n",
    "from sklearn.svm import LinearSVC #(setting multi_class=”crammer_singer”)\n",
    "\n",
    "split_training_data_filepath = '../data/processed/train.csv'\n",
    "split_testing_data_filepath  = '../data/processed/test.csv'\n",
    "model_filepath = '../models/supportvectormachine.pckl'"
   ]
  },
  {
   "cell_type": "code",
   "execution_count": 2,
   "metadata": {},
   "outputs": [
    {
     "data": {
      "text/html": [
       "<div>\n",
       "<style scoped>\n",
       "    .dataframe tbody tr th:only-of-type {\n",
       "        vertical-align: middle;\n",
       "    }\n",
       "\n",
       "    .dataframe tbody tr th {\n",
       "        vertical-align: top;\n",
       "    }\n",
       "\n",
       "    .dataframe thead th {\n",
       "        text-align: right;\n",
       "    }\n",
       "</style>\n",
       "<table border=\"1\" class=\"dataframe\">\n",
       "  <thead>\n",
       "    <tr style=\"text-align: right;\">\n",
       "      <th></th>\n",
       "      <th>query</th>\n",
       "      <th>category</th>\n",
       "    </tr>\n",
       "  </thead>\n",
       "  <tbody>\n",
       "    <tr>\n",
       "      <th>421399</th>\n",
       "      <td>coding for schools</td>\n",
       "      <td>1277</td>\n",
       "    </tr>\n",
       "    <tr>\n",
       "      <th>408687</th>\n",
       "      <td>sepa direct debit</td>\n",
       "      <td>381</td>\n",
       "    </tr>\n",
       "    <tr>\n",
       "      <th>221795</th>\n",
       "      <td>hose pipe reel</td>\n",
       "      <td>1130</td>\n",
       "    </tr>\n",
       "  </tbody>\n",
       "</table>\n",
       "</div>"
      ],
      "text/plain": [
       "                     query category\n",
       "421399  coding for schools     1277\n",
       "408687   sepa direct debit      381\n",
       "221795      hose pipe reel     1130"
      ]
     },
     "metadata": {},
     "output_type": "display_data"
    }
   ],
   "source": [
    "# fetch training data only:\n",
    "df_train = pd.read_csv(split_training_data_filepath, index_col=0)\n",
    "# do not want the class label to be numerical nor ordinal. \n",
    "# df_train['category'] = pd.Categorical(df_train['category'])\n",
    "df_train['category'] = pd.Categorical(df_train['category'])\n",
    "display(df_train.sample(3))"
   ]
  },
  {
   "cell_type": "code",
   "execution_count": 3,
   "metadata": {},
   "outputs": [],
   "source": [
    "tfidf = TfidfVectorizer(\n",
    "#     stop_words=stop_words,\n",
    "    stop_words = {'english'},\n",
    "    strip_accents= 'ascii',\n",
    "    ngram_range=(1,1), # consider unigrams/bigrams/trigrams?\n",
    "    min_df = 4,\n",
    "    max_df = 0.80,\n",
    "    binary=True, # count term occurance in each query only once\n",
    ")\n",
    "\n",
    "# column transformer\n",
    "all_transforms = make_column_transformer(\n",
    "    (tfidf, ['query'])\n",
    ")\n",
    "\n",
    "# classify using random forest (resistant to overfitting):\n",
    "clf_svc = LinearSVC(\n",
    "    dual=False,\n",
    "    tol=1e-3,\n",
    "#     multi_class='crammer_singer',\n",
    "    multi_class='ovr',\n",
    "#     verbose=3,\n",
    "    max_iter=2500,\n",
    ")\n",
    "pipe = make_pipeline(all_transforms, clf_svc)"
   ]
  },
  {
   "cell_type": "code",
   "execution_count": 4,
   "metadata": {},
   "outputs": [
    {
     "name": "stdout",
     "output_type": "stream",
     "text": [
      "CPU times: user 2 µs, sys: 0 ns, total: 2 µs\n",
      "Wall time: 4.77 µs\n"
     ]
    }
   ],
   "source": [
    "%%time\n",
    "# scores = cross_val_score(pipe, df_train['query'], df_train['category'], cv=10, scoring='accuracy')\n",
    "# scores = cross_val_score(clf_svc, X, y, cv=5, scoring='f1_macro')\n",
    "# scores = cross_val_score(clf_svc, X, df_train['category'], cv=2, scoring='accuracy')\n",
    "# cross_val_score(pipe, df_train['query'], df_train['category'], cv=5, scoring='accuracy')\n",
    "# print(\"accuracy: %0.2f (+/- %0.2f)\" % (scores.mean(), scores.std() * 2))"
   ]
  },
  {
   "cell_type": "code",
   "execution_count": 5,
   "metadata": {},
   "outputs": [
    {
     "data": {
      "text/plain": [
       "(485458, 22366)"
      ]
     },
     "metadata": {},
     "output_type": "display_data"
    },
    {
     "name": "stdout",
     "output_type": "stream",
     "text": [
      "CPU times: user 2.65 s, sys: 33.8 ms, total: 2.69 s\n",
      "Wall time: 2.69 s\n"
     ]
    }
   ],
   "source": [
    "%%time\n",
    "X = tfidf.fit_transform(df_train['query'])\n",
    "display(X.shape)"
   ]
  },
  {
   "cell_type": "markdown",
   "metadata": {},
   "source": [
    "`X` is a:\n",
    "```\n",
    "<546140x23695 sparse matrix of type '<class 'numpy.float64'>'\n",
    "\twith 1625786 stored elements in Compressed Sparse Row format>\n",
    "```"
   ]
  },
  {
   "cell_type": "code",
   "execution_count": 6,
   "metadata": {},
   "outputs": [
    {
     "name": "stdout",
     "output_type": "stream",
     "text": [
      "CPU times: user 2h 31min 25s, sys: 21min 5s, total: 2h 52min 30s\n",
      "Wall time: 21min 48s\n"
     ]
    },
    {
     "data": {
      "text/plain": [
       "LinearSVC(dual=False, max_iter=200, tol=0.001)"
      ]
     },
     "execution_count": 6,
     "metadata": {},
     "output_type": "execute_result"
    }
   ],
   "source": [
    "%%time\n",
    "# train model\n",
    "clf_svc.fit(X, df_train['category'])\n",
    "with open(model_filepath, 'wb') as filepath:\n",
    "    pickle.dump(clf_svc, filepath)\n",
    "print('trained svm model and exported to', model_filepath)"
   ]
  },
  {
   "cell_type": "code",
   "execution_count": 7,
   "metadata": {},
   "outputs": [
    {
     "name": "stdout",
     "output_type": "stream",
     "text": [
      "read in test data (121365, 22366)\n",
      "computed 121365 predictions of test data\n",
      "CPU times: user 2 s, sys: 755 ms, total: 2.75 s\n",
      "Wall time: 2.84 s\n"
     ]
    }
   ],
   "source": [
    "%%time\n",
    "# check model\n",
    "df_test = pd.read_csv(split_testing_data_filepath, index_col=0)\n",
    "X_test = tfidf.transform(df_test['query'])\n",
    "print('read in test data', X_test.shape)\n",
    "y_predicted = clf_svc.predict(X_test)\n",
    "print('computed', len(y_predicted), 'predictions of test data')"
   ]
  },
  {
   "cell_type": "code",
   "execution_count": 9,
   "metadata": {},
   "outputs": [
    {
     "name": "stdout",
     "output_type": "stream",
     "text": [
      "number of correct test predictions: 75024\n",
      "number of incorrect predictions: 46341\n",
      "ratio of correct test predictions: 0.618\n",
      "\n"
     ]
    }
   ],
   "source": [
    "print('number of correct test predictions:', sum(y_predicted == df_test['category']))\n",
    "print('number of incorrect predictions:', sum(y_predicted != df_test['category']))\n",
    "print('ratio of correct test predictions:', round(sum(y_predicted == df_test['category'])/len(df_test),3))\n",
    "print('')"
   ]
  },
  {
   "cell_type": "code",
   "execution_count": null,
   "metadata": {},
   "outputs": [],
   "source": []
  }
 ],
 "metadata": {
  "kernelspec": {
   "display_name": "Python 3",
   "language": "python",
   "name": "python3"
  },
  "language_info": {
   "codemirror_mode": {
    "name": "ipython",
    "version": 3
   },
   "file_extension": ".py",
   "mimetype": "text/x-python",
   "name": "python",
   "nbconvert_exporter": "python",
   "pygments_lexer": "ipython3",
   "version": "3.8.6"
  }
 },
 "nbformat": 4,
 "nbformat_minor": 4
}
