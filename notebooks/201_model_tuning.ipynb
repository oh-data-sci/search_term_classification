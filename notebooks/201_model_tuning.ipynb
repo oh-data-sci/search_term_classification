{
 "cells": [
  {
   "cell_type": "code",
   "execution_count": 25,
   "metadata": {},
   "outputs": [],
   "source": [
    "import numpy as np\n",
    "import pandas as pd\n",
    "import pickle\n",
    "from sklearn.feature_extraction.text import TfidfVectorizer\n",
    "from sklearn.compose import make_column_transformer\n",
    "from sklearn.metrics import accuracy_score\n",
    "from sklearn.metrics import confusion_matrix\n",
    "from sklearn.metrics import f1_score\n",
    "from sklearn.metrics import precision_score\n",
    "from sklearn.model_selection import cross_val_score\n",
    "from sklearn.model_selection import GridSearchCV\n",
    "from sklearn.model_selection import RepeatedStratifiedKFold\n",
    "from sklearn.pipeline import make_pipeline\n",
    "from sklearn.svm import LinearSVC #(setting multi_class=”crammer_singer”)\n",
    "\n",
    "split_training_data_filepath = '../data/processed/train.csv'\n",
    "split_testing_data_filepath  = '../data/processed/test.csv'\n",
    "model_filepath = '../models/supportvectormachine.pckl'\n",
    "\n",
    "outputmodel_filepath = \"../models/final_model_object.pckl\""
   ]
  },
  {
   "cell_type": "code",
   "execution_count": 18,
   "metadata": {},
   "outputs": [
    {
     "data": {
      "text/html": [
       "<div>\n",
       "<style scoped>\n",
       "    .dataframe tbody tr th:only-of-type {\n",
       "        vertical-align: middle;\n",
       "    }\n",
       "\n",
       "    .dataframe tbody tr th {\n",
       "        vertical-align: top;\n",
       "    }\n",
       "\n",
       "    .dataframe thead th {\n",
       "        text-align: right;\n",
       "    }\n",
       "</style>\n",
       "<table border=\"1\" class=\"dataframe\">\n",
       "  <thead>\n",
       "    <tr style=\"text-align: right;\">\n",
       "      <th></th>\n",
       "      <th>query</th>\n",
       "      <th>category</th>\n",
       "    </tr>\n",
       "  </thead>\n",
       "  <tbody>\n",
       "    <tr>\n",
       "      <th>546291</th>\n",
       "      <td>jobs in property</td>\n",
       "      <td>1049</td>\n",
       "    </tr>\n",
       "    <tr>\n",
       "      <th>401166</th>\n",
       "      <td>personalised stones</td>\n",
       "      <td>419</td>\n",
       "    </tr>\n",
       "    <tr>\n",
       "      <th>571441</th>\n",
       "      <td>employment law redundancy</td>\n",
       "      <td>1327</td>\n",
       "    </tr>\n",
       "  </tbody>\n",
       "</table>\n",
       "</div>"
      ],
      "text/plain": [
       "                            query category\n",
       "546291           jobs in property     1049\n",
       "401166        personalised stones      419\n",
       "571441  employment law redundancy     1327"
      ]
     },
     "metadata": {},
     "output_type": "display_data"
    }
   ],
   "source": [
    "# fetch training data only:\n",
    "df_train = pd.read_csv(split_training_data_filepath, index_col=0)\n",
    "# do not want the class label to be numerical nor ordinal. \n",
    "# df_train['category'] = pd.Categorical(df_train['category'])\n",
    "df_train['category'] = df_train['category'].astype(str)\n",
    "display(df_train.sample(3))"
   ]
  },
  {
   "cell_type": "code",
   "execution_count": 19,
   "metadata": {},
   "outputs": [],
   "source": [
    "tfidf = TfidfVectorizer(\n",
    "    stop_words = {'english'},\n",
    "    strip_accents= 'ascii',\n",
    "    ngram_range=(1,1), # consider unigrams/bigrams/trigrams?\n",
    "    min_df = 8,\n",
    "    max_df = 0.80,\n",
    "    binary=True, # count term occurance in each query only once\n",
    ")\n",
    "\n",
    "# column transformer\n",
    "all_transforms = make_column_transformer(\n",
    "    (tfidf, ['query'])\n",
    ")\n",
    "\n",
    "# classify using random forest (resistant to overfitting):\n",
    "clf_svc = LinearSVC(\n",
    "    dual=False,\n",
    "    tol=1e-3,\n",
    "    multi_class='ovr',\n",
    "    class_weight='balanced'\n",
    "    max_iter=1000,\n",
    ")\n",
    "pipe = make_pipeline(all_transforms, clf_svc)"
   ]
  },
  {
   "cell_type": "code",
   "execution_count": 20,
   "metadata": {},
   "outputs": [
    {
     "name": "stdout",
     "output_type": "stream",
     "text": [
      "accuracy: nan (+/- nan)\n",
      "CPU times: user 279 µs, sys: 79 µs, total: 358 µs\n",
      "Wall time: 324 µs\n"
     ]
    }
   ],
   "source": [
    "%%time\n",
    "# kfolds = RepeatedStratifiedKFold(n_splits=2, n_repeats=2, random_state=42)\n",
    "# scores = cross_val_score(\n",
    "#     pipe, \n",
    "#     df_train['query'], \n",
    "#     df_train['category'], \n",
    "#     scoring='accuracy', \n",
    "#     cv=kfolds, \n",
    "#     n_jobs=-1, \n",
    "#     error_score='raise')\n",
    "\n",
    "# scores = cross_val_score(pipe, df_train['query'], df_train['category'], cv=2, scoring='accuracy')\n",
    "# scores = cross_val_score(clf_svc, X, y, cv=5, scoring='f1_macro')\n",
    "# scores = cross_val_score(clf_svc, X, df_train['category'], cv=2, scoring='accuracy')\n",
    "# cross_val_score(pipe, df_train['query'], df_train['category'], cv=5, scoring='accuracy')\n",
    "print(\"accuracy: %0.2f (+/- %0.2f)\" % (scores.mean(), scores.std() * 2))"
   ]
  },
  {
   "cell_type": "code",
   "execution_count": 21,
   "metadata": {},
   "outputs": [
    {
     "data": {
      "text/plain": [
       "(485458, 14446)"
      ]
     },
     "metadata": {},
     "output_type": "display_data"
    },
    {
     "name": "stdout",
     "output_type": "stream",
     "text": [
      "CPU times: user 2.63 s, sys: 34.8 ms, total: 2.66 s\n",
      "Wall time: 2.66 s\n"
     ]
    }
   ],
   "source": [
    "%%time\n",
    "X = tfidf.fit_transform(df_train['query'])\n",
    "display(X.shape)"
   ]
  },
  {
   "cell_type": "code",
   "execution_count": 15,
   "metadata": {},
   "outputs": [
    {
     "name": "stdout",
     "output_type": "stream",
     "text": [
      "trained svm model and exported to ../models/supportvectormachine.pckl\n",
      "CPU times: user 2h 38min 8s, sys: 21min 32s, total: 2h 59min 40s\n",
      "Wall time: 22min 41s\n"
     ]
    }
   ],
   "source": [
    "%%time\n",
    "# train model\n",
    "# pipe.fit(X, df_train['category'])\n",
    "\n",
    "clf_svc.fit(X, df_train['category'])\n",
    "\n",
    "with open(model_filepath, 'wb') as filepath:\n",
    "    pickle.dump(clf_svc, filepath)\n",
    "print('trained svm model and exported to', model_filepath)"
   ]
  },
  {
   "cell_type": "code",
   "execution_count": 16,
   "metadata": {},
   "outputs": [
    {
     "name": "stdout",
     "output_type": "stream",
     "text": [
      "read in test data (121365, 14446)\n",
      "computed 121365 predictions of test data\n",
      "CPU times: user 1.86 s, sys: 693 ms, total: 2.55 s\n",
      "Wall time: 2.55 s\n"
     ]
    }
   ],
   "source": [
    "%%time\n",
    "# check model\n",
    "df_test = pd.read_csv(split_testing_data_filepath, index_col=0)\n",
    "X_test = tfidf.transform(df_test['query'])\n",
    "print('read in test data', X_test.shape)\n",
    "y_predicted = clf_svc.predict(X_test)\n",
    "print('computed', len(y_predicted), 'predictions of test data')"
   ]
  },
  {
   "cell_type": "code",
   "execution_count": 17,
   "metadata": {},
   "outputs": [
    {
     "name": "stdout",
     "output_type": "stream",
     "text": [
      "number of correct test predictions: 73139\n",
      "number of incorrect predictions: 48226\n",
      "ratio of correct test predictions: 0.603\n",
      "\n"
     ]
    }
   ],
   "source": [
    "print('number of correct test predictions:', sum(y_predicted == df_test['category']))\n",
    "print('number of incorrect predictions:', sum(y_predicted != df_test['category']))\n",
    "print('ratio of correct test predictions:', round(sum(y_predicted == df_test['category'])/len(df_test),3))\n",
    "print('')"
   ]
  },
  {
   "cell_type": "code",
   "execution_count": 22,
   "metadata": {},
   "outputs": [],
   "source": [
    "%%time\n",
    "scores = cross_val_score(clf_svc, X, df_train['category'], cv=3, scoring='accuracy')\n",
    "# this is plenty stable:\n",
    "print(\"accuracy: %0.2f (+/- %0.2f)\" % (scores.mean(), scores.std() * 2))"
   ]
  },
  {
   "cell_type": "code",
   "execution_count": 24,
   "metadata": {},
   "outputs": [
    {
     "name": "stdout",
     "output_type": "stream",
     "text": [
      "accuracy: 0.59 (+/- 0.00)\n"
     ]
    }
   ],
   "source": []
  },
  {
   "cell_type": "code",
   "execution_count": null,
   "metadata": {},
   "outputs": [],
   "source": [
    "with open(outputmodel_filepath, 'wb') as filepath:\n",
    "    pickle.dump(clf_svc, filepath)\n",
    "print('trained final svm model and exported to', outputmodel_filepath)\n"
   ]
  },
  {
   "cell_type": "code",
   "execution_count": null,
   "metadata": {},
   "outputs": [],
   "source": [
    "%%time\n",
    "parameters = {\n",
    "    'max_iter':[300,1000,3000],\n",
    "    'C': [0.5,0,7,1]\n",
    "}\n",
    "parameter_search = GridSearchCV(clf_svc,parameters)"
   ]
  },
  {
   "cell_type": "code",
   "execution_count": null,
   "metadata": {},
   "outputs": [],
   "source": []
  },
  {
   "cell_type": "code",
   "execution_count": null,
   "metadata": {},
   "outputs": [],
   "source": []
  },
  {
   "cell_type": "code",
   "execution_count": 26,
   "metadata": {},
   "outputs": [
    {
     "name": "stdout",
     "output_type": "stream",
     "text": [
      "trained final svm model and exported to ../models/final_model_object.pckl\n"
     ]
    }
   ],
   "source": [
    "with open(outputmodel_filepath, 'wb') as filepath:\n",
    "    pickle.dump(clf_svc, filepath)\n",
    "print('trained final svm model and exported to', outputmodel_filepath)"
   ]
  },
  {
   "cell_type": "code",
   "execution_count": null,
   "metadata": {},
   "outputs": [],
   "source": [
    "score(X, y[, sample_weight])"
   ]
  }
 ],
 "metadata": {
  "kernelspec": {
   "display_name": "Python 3",
   "language": "python",
   "name": "python3"
  },
  "language_info": {
   "codemirror_mode": {
    "name": "ipython",
    "version": 3
   },
   "file_extension": ".py",
   "mimetype": "text/x-python",
   "name": "python",
   "nbconvert_exporter": "python",
   "pygments_lexer": "ipython3",
   "version": "3.8.6"
  }
 },
 "nbformat": 4,
 "nbformat_minor": 4
}
